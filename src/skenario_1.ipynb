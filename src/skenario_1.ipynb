{
 "cells": [
  {
   "cell_type": "code",
   "execution_count": null,
   "metadata": {},
   "outputs": [],
   "source": [
    "from pyspark.sql import SparkSession\n",
    "from pyspark.ml.feature import VectorAssembler\n",
    "from pyspark.ml.regression import LinearRegression\n",
    "from pyspark.ml.evaluation import RegressionEvaluator\n",
    "from pyspark.sql.functions import avg, year\n",
    "from pyspark.sql.functions import desc\n",
    "import matplotlib.pyplot as plt\n",
    "spark = SparkSession.builder.appName(\"GDPAnalysis\").getOrCreate()\n",
    "df = spark.read.csv(\"/covid.csv\", header=True, inferSchema=True)\n",
    "df = df.dropDuplicates().na.drop()\n",
    "df = df.withColumn(\"year\", year(df.date))\n",
    "avg_gdp_df = df.groupBy(\"location\", \"year\").agg(avg(\"gdp_per_capita\").alias(\"avg_gdp_per_capita\"))\n",
    "df_with_avg_gdp = df.join(avg_gdp_df, [\"location\", \"year\"])\n",
    "selected_columns = [\"location\", \"year\", \"avg_gdp_per_capita\", \"total_cases\", \"total_deaths\", \"stringency_index\", \"population\", \"human_development_index\"]\n",
    "assembler = VectorAssembler(inputCols=selected_columns[3:], outputCol=\"features\")\n",
    "df_transformed = assembler.transform(df_with_avg_gdp)\n",
    "(trainingData, testData) = df_transformed.randomSplit([0.8, 0.2])\n",
    "lr = LinearRegression(featuresCol=\"features\", labelCol=\"avg_gdp_per_capita\")\n",
    "model = lr.fit(trainingData)\n",
    "predictions = model.transform(testData)\n",
    "evaluator = RegressionEvaluator(labelCol=\"avg_gdp_per_capita\", metricName=\"rmse\")\n",
    "rmse = evaluator.evaluate(predictions)\n",
    "print(\"Root Mean Square Error (RMSE):\", rmse)\n",
    "top_10_countries = df_with_avg_gdp.select(\"location\", \"avg_gdp_per_capita\") \\\n",
    "    .dropDuplicates([\"location\"]) \\\n",
    "    .orderBy(\"avg_gdp_per_capita\", ascending=True) \\\n",
    "    .limit(10)\n",
    "\n",
    "top_10_countries_pd = top_10_countries.toPandas()\n",
    "plt.figure(figsize=(10, 6))\n",
    "plt.bar(top_10_countries_pd[\"location\"], top_10_countries_pd[\"avg_gdp_per_capita\"])\n",
    "plt.xlabel(\"Country\")\n",
    "plt.ylabel(\"Average GDP per Capita\")\n",
    "plt.title(\"Top 10 Unique Countries with Highest Average GDP per Capita\")\n",
    "plt.xticks(rotation=45)\n",
    "plt.show()"
   ]
  }
 ],
 "metadata": {
  "kernelspec": {
   "display_name": "base",
   "language": "python",
   "name": "python3"
  },
  "language_info": {
   "name": "python",
   "version": "3.8.8"
  },
  "orig_nbformat": 4
 },
 "nbformat": 4,
 "nbformat_minor": 2
}
