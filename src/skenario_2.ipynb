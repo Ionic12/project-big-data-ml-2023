{
 "cells": [
  {
   "cell_type": "code",
   "execution_count": null,
   "metadata": {},
   "outputs": [],
   "source": [
    "from pyspark.sql import SparkSession\n",
    "from pyspark.ml.feature import VectorAssembler\n",
    "from pyspark.ml.regression import LinearRegression\n",
    "from pyspark.ml.evaluation import RegressionEvaluator\n",
    "from pyspark.sql.functions import avg, year\n",
    "from pyspark.sql.functions import desc\n",
    "import matplotlib.pyplot as plt\n",
    "spark = SparkSession.builder.appName(\"GovernmentPolicyAnalysis\").getOrCreate()\n",
    "df = spark.read.csv(\"/covid.csv\", header=True, inferSchema=True)\n",
    "df = df.dropDuplicates().na.drop()\n",
    "df = df.withColumn(\"year\", year(df.date))\n",
    "avg_cases_deaths_df = df.groupBy(\"location\", \"year\").agg(avg(\"total_cases\").alias(\"avg_total_cases\"), avg(\"total_deaths\").alias(\"avg_total_deaths\"), avg(\"stringency_index\").alias(\"avg_stringency_index\"))\n",
    "df_with_avg_cases_deaths = df.join(avg_cases_deaths_df, [\"location\", \"year\"])\n",
    "selected_columns = [\"location\", \"year\", \"avg_total_cases\", \"avg_total_deaths\", \"avg_stringency_index\"]\n",
    "assembler = VectorAssembler(inputCols=selected_columns[2:], outputCol=\"features\")\n",
    "df_transformed = assembler.transform(df_with_avg_cases_deaths)\n",
    "(trainingData, testData) = df_transformed.randomSplit([0.8, 0.2])\n",
    "lr = LinearRegression(featuresCol=\"features\", labelCol=\"avg_stringency_index\")\n",
    "model = lr.fit(trainingData)\n",
    "predictions = model.transform(testData)\n",
    "evaluator = RegressionEvaluator(labelCol=\"avg_stringency_index\", metricName=\"rmse\")\n",
    "rmse = evaluator.evaluate(predictions)\n",
    "print(\"Root Mean Square Error (RMSE):\", rmse)\n",
    "top_10_countries = df_with_avg_cases_deaths.select(\"location\", \"avg_stringency_index\", \"avg_total_cases\", \"avg_total_deaths\") \\\n",
    "    .dropDuplicates([\"location\"]) \\\n",
    "    .orderBy(\"avg_total_cases\", ascending=False) \\\n",
    "    .limit(10)\n",
    "\n",
    "top_10_countries_pd = top_10_countries.toPandas()\n",
    "fig, ax = plt.subplots(figsize=(12, 6))\n",
    "ax.bar(top_10_countries_pd[\"location\"], top_10_countries_pd[\"avg_stringency_index\"], label=\"Average Stringency Index\")\n",
    "ax.bar(top_10_countries_pd[\"location\"], top_10_countries_pd[\"avg_total_cases\"], label=\"Average Total Cases\")\n",
    "ax.bar(top_10_countries_pd[\"location\"], top_10_countries_pd[\"avg_total_deaths\"], label=\"Average Total Deaths\")\n",
    "ax.set_xlabel(\"Country\")\n",
    "ax.set_ylabel(\"Average Values\")\n",
    "ax.set_title(\"Top 10 Unique Countries with Highest Averages\")\n",
    "ax.legend()\n",
    "plt.xticks(rotation=45)\n",
    "plt.show()"
   ]
  }
 ],
 "metadata": {
  "language_info": {
   "name": "python"
  },
  "orig_nbformat": 4
 },
 "nbformat": 4,
 "nbformat_minor": 2
}
